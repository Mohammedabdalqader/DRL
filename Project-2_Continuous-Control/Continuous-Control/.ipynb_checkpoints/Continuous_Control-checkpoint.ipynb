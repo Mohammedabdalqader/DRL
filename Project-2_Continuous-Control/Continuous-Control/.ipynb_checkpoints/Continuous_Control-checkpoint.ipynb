{
 "cells": [
  {
   "cell_type": "markdown",
   "metadata": {},
   "source": [
    "# Continuous Control\n",
    "\n",
    "---\n",
    "\n",
    "\n",
    "In this notebook I will implement the distributed disttributional deep determenstic policy gradients (D4PG) algorithm.\n",
    "\n",
    "#### different algorithm can also be used to solve this problem such as :\n",
    "    '''\n",
    "    1 - Deep determenstic policy gradients (DDPG)\n",
    "    2 - Proximal policy optimization (PPO)\n",
    "    3 - Asynchronous Advantage Actor-Critic (A3C)\n",
    "    4 - Trust Region Policy Optimization (TRPO)\n",
    "\n",
    "    \n",
    "    and many more \n",
    "    '''"
   ]
  },
  {
   "cell_type": "markdown",
   "metadata": {},
   "source": [
    "# 1. Start the Environment\n"
   ]
  },
  {
   "cell_type": "markdown",
   "metadata": {},
   "source": [
    "The environments corresponding to both versions of the environment are already saved in the work dirictory and can be accessed at the file paths provided below.  \n",
    "\n",
    "Please select one of the two options below for loading the environment.\n",
    "\n",
    "Note: This implementation applies to the second option, where the environment consists of 20 agents."
   ]
  },
  {
   "cell_type": "code",
   "execution_count": 1,
   "metadata": {},
   "outputs": [
    {
     "name": "stderr",
     "output_type": "stream",
     "text": [
      "INFO:unityagents:\n",
      "'Academy' started successfully!\n",
      "Unity Academy name: Academy\n",
      "        Number of Brains: 1\n",
      "        Number of External Brains : 1\n",
      "        Lesson number : 0\n",
      "        Reset Parameters :\n",
      "\t\tgoal_speed -> 1.0\n",
      "\t\tgoal_size -> 5.0\n",
      "Unity brain name: ReacherBrain\n",
      "        Number of Visual Observations (per agent): 0\n",
      "        Vector Observation space type: continuous\n",
      "        Vector Observation space size (per agent): 33\n",
      "        Number of stacked Vector Observation: 1\n",
      "        Vector Action space type: continuous\n",
      "        Vector Action space size (per agent): 4\n",
      "        Vector Action descriptions: , , , \n"
     ]
    }
   ],
   "source": [
    "import random\n",
    "import time\n",
    "import torch\n",
    "import torch.nn as nn\n",
    "import numpy as np\n",
    "\n",
    "from collections import deque\n",
    "import matplotlib.pyplot as plt\n",
    "%matplotlib inline\n",
    "\n",
    "device = torch.device(\"cuda:0\" if torch.cuda.is_available() else \"cpu\")\n",
    "\n",
    "from unityagents import UnityEnvironment\n",
    "from d4pg_agent import Agent\n",
    "\n",
    "\n",
    "# select this option to load version 1 (with a single agent) of the environment\n",
    "#env = UnityEnvironment(file_name='Reacher_v1_Windows_x86_64/Reacher.exe')\n",
    "\n",
    "# select this option to load version 2 (with 20 agents) of the environment\n",
    "env = UnityEnvironment(file_name='Reacher_v2_Windows_x86_64/Reacher.exe')"
   ]
  },
  {
   "cell_type": "markdown",
   "metadata": {},
   "source": [
    "Environments contain **_brains_** which are responsible for deciding the actions of their associated agents. Here we check for the first brain available, and set it as the default brain we will be controlling from Python."
   ]
  },
  {
   "cell_type": "code",
   "execution_count": 3,
   "metadata": {},
   "outputs": [],
   "source": [
    "# get the default brain\n",
    "brain_name = env.brain_names[0]\n",
    "brain = env.brains[brain_name]"
   ]
  },
  {
   "cell_type": "markdown",
   "metadata": {},
   "source": [
    "# 2. Examine the State and Action Spaces\n",
    "\n",
    "Run the code cell below to print some information about the environment."
   ]
  },
  {
   "cell_type": "code",
   "execution_count": 4,
   "metadata": {},
   "outputs": [
    {
     "name": "stdout",
     "output_type": "stream",
     "text": [
      "Number of agents: 20\n",
      "Size of each action: 4\n",
      "There are 20 agents. Each observes a state with length: 33\n",
      "The state for the first agent looks like: [ 0.00000000e+00 -4.00000000e+00  0.00000000e+00  1.00000000e+00\n",
      " -0.00000000e+00 -0.00000000e+00 -4.37113883e-08  0.00000000e+00\n",
      "  0.00000000e+00  0.00000000e+00  0.00000000e+00  0.00000000e+00\n",
      "  0.00000000e+00  0.00000000e+00 -1.00000000e+01  0.00000000e+00\n",
      "  1.00000000e+00 -0.00000000e+00 -0.00000000e+00 -4.37113883e-08\n",
      "  0.00000000e+00  0.00000000e+00  0.00000000e+00  0.00000000e+00\n",
      "  0.00000000e+00  0.00000000e+00  5.75471878e+00 -1.00000000e+00\n",
      "  5.55726624e+00  0.00000000e+00  1.00000000e+00  0.00000000e+00\n",
      " -1.68164849e-01]\n"
     ]
    }
   ],
   "source": [
    "# reset the environment\n",
    "env_info = env.reset(train_mode=True)[brain_name]\n",
    "\n",
    "# number of agents\n",
    "num_agents = len(env_info.agents)\n",
    "print('Number of agents:', num_agents)\n",
    "\n",
    "# size of each action\n",
    "action_size = brain.vector_action_space_size\n",
    "print('Size of each action:', action_size)\n",
    "\n",
    "# examine the state space \n",
    "states = env_info.vector_observations\n",
    "state_size = states.shape[1]\n",
    "print('There are {} agents. Each observes a state with length: {}'.format(states.shape[0], state_size))\n",
    "print('The state for the first agent looks like:', states[0])"
   ]
  },
  {
   "cell_type": "markdown",
   "metadata": {},
   "source": [
    "# 3. Take Random Actions in the Environment\n",
    "\n",
    "In the next code cell, you will learn how to use the Python API to control the agent and receive feedback from the environment.\n",
    "\n",
    "Note that **in this coding environment, you will not be able to watch the agents while they are training**, and you should set `train_mode=True` to restart the environment."
   ]
  },
  {
   "cell_type": "code",
   "execution_count": null,
   "metadata": {},
   "outputs": [],
   "source": [
    "for i in range(10):\n",
    "    env_info = env.reset(train_mode=True)[brain_name]      # reset the environment    \n",
    "    states = env_info.vector_observations                  # get the current state (for each agent)\n",
    "    scores = np.zeros(num_agents)                          # initialize the score (for each agent)\n",
    "    while True:\n",
    "        actions = np.random.randn(num_agents, action_size) # select an action (for each agent)\n",
    "        actions = np.clip(actions, -1, 1)                  # all actions between -1 and 1\n",
    "        env_info = env.step(actions)[brain_name]           # send all actions to tne environment\n",
    "        next_states = env_info.vector_observations         # get next state (for each agent)\n",
    "        rewards = env_info.rewards                         # get reward (for each agent)\n",
    "        dones = env_info.local_done                        # see if episode finished\n",
    "        scores += env_info.rewards                         # update the score (for each agent)\n",
    "        states = next_states                               # roll over states to next time step\n",
    "        if np.any(dones):                                  # exit loop if episode finished\n",
    "            break\n",
    "    print('Total score (averaged over agents) this episode: {}'.format(np.mean(scores)))"
   ]
  },
  {
   "cell_type": "markdown",
   "metadata": {},
   "source": [
    "# 4. Implementation\n",
    "\n",
    "Now i will implement the D4PG Algorithm"
   ]
  },
  {
   "cell_type": "code",
   "execution_count": 5,
   "metadata": {},
   "outputs": [],
   "source": [
    "agent = Agent(state_size=state_size, action_size=action_size,num_agents=num_agents, seed=7)"
   ]
  },
  {
   "cell_type": "code",
   "execution_count": 8,
   "metadata": {},
   "outputs": [],
   "source": [
    "# Training the agent over a number of episodes until we reach the desired average reward, which is > 30\n",
    "\n",
    "def d4pg(n_episodes=2000):\n",
    "    \n",
    "    scores = []\n",
    "    scores_deque = deque(maxlen=100)\n",
    "    rolling_average_score = []\n",
    "    \n",
    "    for i_episode in range(1, n_episodes+1):\n",
    "        env_info = env.reset(train_mode=True)[brain_name]     # reset the environment    \n",
    "        state = env_info.vector_observations                  # get the current state (for each agent)\n",
    "        agent.reset()\n",
    "        score = np.zeros(num_agents)\n",
    "        \n",
    "        for timestep in range(1000):\n",
    "            action = agent.act(state)\n",
    "            \n",
    "            env_info = env.step(action)[brain_name]           # send all actions to the environment\n",
    "            next_state = env_info.vector_observations         # get next state (for each agent)\n",
    "            reward = env_info.rewards                         # get reward (for each agent)\n",
    "            done = env_info.local_done                        # to  see if episode finished\n",
    "            \n",
    "            score += reward\n",
    "            agent.step(state, action, reward, next_state, done)\n",
    "            state = next_state\n",
    "            if np.any(done):                                  # see if any episode finished\n",
    "                break             \n",
    "        \n",
    "        score = np.mean(score)\n",
    "        scores_deque.append(score)\n",
    "        scores.append(score)\n",
    "        rolling_average_score.append(np.mean(scores_deque))\n",
    "        \n",
    "        \n",
    "        print('\\rEpisode {}\\tAverage Score: {:.2f}\\tScore: {:.2f}'.format(i_episode, np.mean(scores_deque), score), end=\"\")\n",
    "        \n",
    "        if i_episode % 10 == 0:                        \n",
    "            print('\\rEpisode {}\\tAverage Score: {:.2f}'.format(i_episode, np.mean(scores_deque)))\n",
    "            \n",
    "                        \n",
    "        if 30 < current_score and 99 < len(scores_deque):\n",
    "            print('Target average reward achieved!')\n",
    "            torch.save(agent.actor_local.state_dict(), 'checkpoint_actor_local.pth')           # save local actor\n",
    "            torch.save(agent.critic_local.state_dict(), 'checkpoint_critic_local.pth')         # save local critic\n",
    "            break\n",
    "    return scores, rolling_average_score"
   ]
  },
  {
   "cell_type": "code",
   "execution_count": 9,
   "metadata": {},
   "outputs": [
    {
     "name": "stdout",
     "output_type": "stream",
     "text": [
      "Episode 10\tAverage Score: 0.43\tScore: 0.50\n",
      "Episode 20\tAverage Score: 0.57\tScore: 1.02\n",
      "Episode 30\tAverage Score: 0.61\tScore: 0.58\n",
      "Episode 40\tAverage Score: 0.83\tScore: 2.19\n",
      "Episode 50\tAverage Score: 1.27\tScore: 4.12\n",
      "Episode 60\tAverage Score: 1.86\tScore: 6.01\n",
      "Episode 70\tAverage Score: 2.30\tScore: 3.91\n",
      "Episode 80\tAverage Score: 2.61\tScore: 5.30\n",
      "Episode 90\tAverage Score: 3.08\tScore: 7.62\n",
      "Episode 100\tAverage Score: 3.65\tScore: 8.68\n",
      "Episode 110\tAverage Score: 4.61\tScore: 9.194\n",
      "Episode 120\tAverage Score: 5.22\tScore: 8.40\n",
      "Episode 130\tAverage Score: 6.35\tScore: 14.87\n",
      "Episode 140\tAverage Score: 7.72\tScore: 16.97\n",
      "Episode 150\tAverage Score: 9.28\tScore: 20.73\n",
      "Episode 160\tAverage Score: 11.44\tScore: 30.03\n",
      "Episode 170\tAverage Score: 13.98\tScore: 29.39\n",
      "Episode 180\tAverage Score: 16.18\tScore: 26.39\n",
      "Episode 190\tAverage Score: 18.13\tScore: 28.11\n",
      "Episode 200\tAverage Score: 20.15\tScore: 32.36\n",
      "Episode 210\tAverage Score: 21.94\tScore: 23.75\n",
      "Episode 220\tAverage Score: 24.26\tScore: 26.56\n",
      "Episode 230\tAverage Score: 25.82\tScore: 26.39\n",
      "Episode 240\tAverage Score: 27.24\tScore: 30.41\n",
      "Episode 250\tAverage Score: 28.48\tScore: 31.83\n",
      "Episode 260\tAverage Score: 28.90\tScore: 29.76\n",
      "Episode 270\tAverage Score: 28.94\tScore: 31.92\n",
      "Episode 280\tAverage Score: 29.45\tScore: 33.50\n",
      "Episode 290\tAverage Score: 29.90\tScore: 30.02\n",
      "Episode 294\tAverage Score: 30.03\tScore: 31.29Target average reward achieved!\n"
     ]
    }
   ],
   "source": [
    "scores, rolling_average_score = ddpg()"
   ]
  },
  {
   "cell_type": "code",
   "execution_count": 10,
   "metadata": {},
   "outputs": [
    {
     "data": {
      "image/png": "[encoded data removed]",
      "text/plain": [
       "<matplotlib.figure.Figure at 0x7f9058308160>"
      ]
     },
     "metadata": {
      "needs_background": "light"
     },
     "output_type": "display_data"
    }
   ],
   "source": [
    "fig = plt.figure()\n",
    "ax = fig.add_subplot(111)\n",
    "plt.plot(np.arange(1, len(scores)+1), scores)\n",
    "plt.plot(np.arange(1, len(rolling_average_score)+1), rolling_average_score)\n",
    "plt.ylabel('Score')\n",
    "plt.xlabel('Episode #')\n",
    "plt.show()"
   ]
  },
  {
   "cell_type": "code",
   "execution_count": null,
   "metadata": {},
   "outputs": [],
   "source": [
    "# Here you can test the performance of the agents \n",
    "\n",
    "# load the actor critic models\n",
    "device = torch.device(\"cuda:0\" if torch.cuda.is_available() else \"cpu\")\n",
    "agent.actor_local.load_state_dict(torch.load(\"checkpoints/checkpoint_actor_local.pth\", map_location=device))\n",
    "agent.critic_local.load_state_dict(torch.load(\"checkpoints/checkpoint_critic_local.pth\", map_location=device))\n",
    "\n",
    "for i in range(10):\n",
    "    env_info = env.reset(train_mode=True)[brain_name]      # reset the environment    \n",
    "    states = env_info.vector_observations                  # get the current state (for each agent)\n",
    "    scores = np.zeros(num_agents)                          # initialize the score (for each agent)\n",
    "    while True:\n",
    "        actions = agent.act(states)\n",
    "        env_info = env.step(actions)[brain_name]           # send all actions to tne environment\n",
    "        next_states = env_info.vector_observations         # get next state (for each agent)\n",
    "        rewards = env_info.rewards                         # get reward (for each agent)\n",
    "        dones = env_info.local_done                        # see if episode finished\n",
    "        scores += env_info.rewards                         # update the score (for each agent)\n",
    "        states = next_states                               # roll over states to next time step\n",
    "        if np.any(dones):                                  # exit loop if episode finished\n",
    "            break\n",
    "    print('Total score (averaged over agents) this episode: {}'.format(np.mean(scores)))"
   ]
  },
  {
   "cell_type": "code",
   "execution_count": null,
   "metadata": {},
   "outputs": [],
   "source": [
    "# close the enviroment\n",
    "env.close()"
   ]
  },
  {
   "cell_type": "markdown",
   "metadata": {},
   "source": [
    "### As you can see, the average reward is reached after 294 episodes and there are several approaches to improve the results and train the agents much faster:\n",
    "\n",
    "1- Prioritized experience replay\n",
    "\n",
    "2- Modification of the hyperparameters which play a crucial role\n",
    "\n",
    "3- Use of another algorithm such as A3C.\n"
   ]
  },
  {
   "cell_type": "code",
   "execution_count": null,
   "metadata": {},
   "outputs": [],
   "source": []
  }
 ],
 "metadata": {
  "kernelspec": {
   "display_name": "Python 3",
   "language": "python",
   "name": "python3"
  },
  "language_info": {
   "codemirror_mode": {
    "name": "ipython",
    "version": 3
   },
   "file_extension": ".py",
   "mimetype": "text/x-python",
   "name": "python",
   "nbconvert_exporter": "python",
   "pygments_lexer": "ipython3",
   "version": "3.6.10"
  }
 },
 "nbformat": 4,
 "nbformat_minor": 2
}
