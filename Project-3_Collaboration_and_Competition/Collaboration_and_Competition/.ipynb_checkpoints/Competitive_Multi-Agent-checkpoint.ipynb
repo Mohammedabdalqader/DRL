{
 "cells": [
  {
   "cell_type": "markdown",
   "metadata": {},
   "source": [
    "Competitive Multi-Agent Deep Reinforcement Learning\n",
    "---\n",
    "\n",
    "In this notebook, I will implement the **MADDPG (Multi-Agent Deep Deterministic Policy Gradient)** algorithm in a competitive environment where the goal of each agent is to maximize its own returns.\n"
   ]
  },
  {
   "cell_type": "markdown",
   "metadata": {},
   "source": [
    "### 1. Start the Environment\n"
   ]
  },
  {
   "cell_type": "markdown",
   "metadata": {},
   "source": [
    "The environment is already saved in the work dirictory and can be accessed at the file paths provided below."
   ]
  },
  {
   "cell_type": "code",
   "execution_count": 1,
   "metadata": {},
   "outputs": [
    {
     "name": "stderr",
     "output_type": "stream",
     "text": [
      "INFO:unityagents:\n",
      "'Academy' started successfully!\n",
      "Unity Academy name: Academy\n",
      "        Number of Brains: 1\n",
      "        Number of External Brains : 1\n",
      "        Lesson number : 0\n",
      "        Reset Parameters :\n",
      "\t\t\n",
      "Unity brain name: TennisBrain\n",
      "        Number of Visual Observations (per agent): 0\n",
      "        Vector Observation space type: continuous\n",
      "        Vector Observation space size (per agent): 8\n",
      "        Number of stacked Vector Observation: 3\n",
      "        Vector Action space type: continuous\n",
      "        Vector Action space size (per agent): 2\n",
      "        Vector Action descriptions: , \n"
     ]
    }
   ],
   "source": [
    "# import some necessary packages\n",
    "from unityagents import UnityEnvironment\n",
    "import random\n",
    "import torch\n",
    "import numpy as np\n",
    "import time\n",
    "\n",
    "from collections import deque\n",
    "import matplotlib.pyplot as plt\n",
    "%matplotlib inline\n",
    "\n",
    "from MADDPG import maddpg\n",
    "\n",
    "env = UnityEnvironment(file_name=\"Tennis_Windows_x86_64/Tennis.exe\")\n",
    "\n",
    "device = torch.device(\"cuda:0\" if torch.cuda.is_available() else \"cpu\")\n"
   ]
  },
  {
   "cell_type": "markdown",
   "metadata": {},
   "source": [
    "Environments contain **_brains_** which are responsible for deciding the actions of their associated agents. Here we check for the first brain available, and set it as the default brain we will be controlling from Python."
   ]
  },
  {
   "cell_type": "code",
   "execution_count": 2,
   "metadata": {},
   "outputs": [],
   "source": [
    "# get the default brain\n",
    "brain_name = env.brain_names[0]\n",
    "brain = env.brains[brain_name]"
   ]
  },
  {
   "cell_type": "markdown",
   "metadata": {},
   "source": [
    "### 2. Examine the State and Action Spaces\n",
    "\n",
    "Run the code cell below to print some information about the environment."
   ]
  },
  {
   "cell_type": "code",
   "execution_count": 3,
   "metadata": {},
   "outputs": [
    {
     "name": "stdout",
     "output_type": "stream",
     "text": [
      "Number of agents: 2\n",
      "Size of each action: 2\n",
      "There are 2 agents. Each observes a state with length: 24\n",
      "The state for the first agent looks like: [ 0.          0.          0.          0.          0.          0.\n",
      "  0.          0.          0.          0.          0.          0.\n",
      "  0.          0.          0.          0.         -6.65278625 -1.5\n",
      " -0.          0.          6.83172083  6.         -0.          0.        ]\n"
     ]
    }
   ],
   "source": [
    "# reset the environment\n",
    "env_info = env.reset(train_mode=True)[brain_name]\n",
    "\n",
    "# number of agents \n",
    "num_agents = len(env_info.agents)\n",
    "print('Number of agents:', num_agents)\n",
    "\n",
    "# size of each action\n",
    "action_size = brain.vector_action_space_size\n",
    "print('Size of each action:', action_size)\n",
    "\n",
    "# examine the state space \n",
    "states = env_info.vector_observations\n",
    "state_size = states.shape[1]\n",
    "print('There are {} agents. Each observes a state with length: {}'.format(states.shape[0], state_size))\n",
    "print('The state for the first agent looks like:', states[0])"
   ]
  },
  {
   "cell_type": "markdown",
   "metadata": {},
   "source": [
    "### 3. Take Random Actions in the Environment\n",
    "\n",
    "In the next code cell, you will learn how to use the Python API to control the agent and receive feedback from the environment.\n",
    "\n",
    "Note that **in this coding environment, you will not be able to watch the agents while they are training**, and you should set `train_mode=True` to restart the environment."
   ]
  },
  {
   "cell_type": "code",
   "execution_count": 4,
   "metadata": {},
   "outputs": [
    {
     "name": "stdout",
     "output_type": "stream",
     "text": [
      "Total score (averaged over agents) this episode: -0.004999999888241291\n",
      "Total score (averaged over agents) this episode: -0.004999999888241291\n",
      "Total score (averaged over agents) this episode: -0.004999999888241291\n",
      "Total score (averaged over agents) this episode: -0.004999999888241291\n",
      "Total score (averaged over agents) this episode: -0.004999999888241291\n"
     ]
    }
   ],
   "source": [
    "for i in range(5):                                         # play game for 5 episodes\n",
    "    env_info = env.reset(train_mode=False)[brain_name]     # reset the environment    \n",
    "    states = env_info.vector_observations                  # get the current state (for each agent)\n",
    "    scores = np.zeros(num_agents)                          # initialize the score (for each agent)\n",
    "    while True:\n",
    "        actions = np.random.randn(num_agents, action_size) # select an action (for each agent)\n",
    "        actions = np.clip(actions, -1, 1)                  # all actions between -1 and 1\n",
    "        env_info = env.step(actions)[brain_name]           # send all actions to tne environment\n",
    "        next_states = env_info.vector_observations         # get next state (for each agent)\n",
    "        rewards = env_info.rewards                         # get reward (for each agent)\n",
    "        dones = env_info.local_done                        # see if episode finished\n",
    "        scores += env_info.rewards                         # update the score (for each agent)\n",
    "        states = next_states                               # roll over states to next time step\n",
    "        if np.any(dones):                                  # exit loop if episode finished\n",
    "            break\n",
    "    print('Total score (averaged over agents) this episode: {}'.format(np.mean(scores)))"
   ]
  },
  {
   "cell_type": "markdown",
   "metadata": {},
   "source": [
    "### 4. Implementation"
   ]
  },
  {
   "cell_type": "code",
   "execution_count": 5,
   "metadata": {},
   "outputs": [],
   "source": [
    "'''\n",
    "In this environment there are two agents, each agent gets his own local observation. \n",
    "Here I call a class (maddpg), which prepares the models for each agent and some necessary functions.\n",
    "\n",
    "You will find maddpg class in MADDPG.py \n",
    "\n",
    "'''\n",
    "m_agent = maddpg(state_size=state_size, action_size=action_size,num_agents=num_agents, random_seeds=[0,1])\n",
    "\n",
    "continue_training = False                 # change it to True if you need to continue training the models\n",
    "\n",
    "# if you want to continue training the model, you need to load the local and target models for each agent\n",
    "if (continue_training):\n",
    "    \n",
    "    for idx , agent in enumerate(m_agent.agents):\n",
    "        # load actor networks (local & target)\n",
    "        agent.actor_local.load_state_dict(torch.load(\"checkpoints/checkpoint_actor_{}_local.pth\".format(idx), map_location=device))\n",
    "        agent.actor_target.load_state_dict(torch.load(\"checkpoints/checkpoint_actor_{}_target.pth\".format(idx), map_location=device))\n",
    "        \n",
    "        # load critics networks (local & target)\n",
    "        agent.critic_local.load_state_dict(torch.load(\"checkpoints/checkpoint_critic_{}_local.pth\".format(idx), map_location=device))\n",
    "        agent.critic_target.load_state_dict(torch.load(\"checkpoints/checkpoint_critic_{}_target.pth\".format(idx), map_location=device))\n"
   ]
  },
  {
   "cell_type": "code",
   "execution_count": 6,
   "metadata": {},
   "outputs": [],
   "source": [
    "# Training the agents for max 250 episodes\n",
    "def multi_agent(n_episodes=250):\n",
    "\n",
    "    scores = []                            # we will track the maximum score after every episode\n",
    "    scores_deque = deque(maxlen=100)       # Here we will save the  most recent 100 rewards.\n",
    "    rolling_average_score = []             # Tracking the average rewards\n",
    "    successed = False                     \n",
    "    previous_score = 0.0\n",
    "    for i_episode in range(1, n_episodes+1):\n",
    "        env_info = env.reset(train_mode=True)[brain_name]     # reset the environment    \n",
    "        states = env_info.vector_observations                  # get the current state (for each agent)\n",
    "        score = np.zeros(num_agents)\n",
    "        while True:\n",
    "            actions = m_agent.act(states,add_noise = True)\n",
    "            \n",
    "            env_info = env.step(actions)[brain_name]           # send all actions to the environment\n",
    "            next_states = env_info.vector_observations         # get next state (for each agent)\n",
    "            rewards = env_info.rewards                         # get reward (for each agent)\n",
    "            dones = env_info.local_done                        # to  see if episode finished\n",
    "            \n",
    "            score += rewards\n",
    "            m_agent.step(states, actions, rewards, next_states, dones)\n",
    "            states = next_states\n",
    "            if np.any(dones):                                  # see if any episode finished\n",
    "                break             \n",
    "        \n",
    "        score = np.max(score)\n",
    "        scores_deque.append(score)\n",
    "        scores.append(score)\n",
    "        rolling_average_score.append(np.mean(scores_deque))\n",
    "        \n",
    "        current_score = np.mean(scores_deque)\n",
    "        \n",
    "        print('\\rEpisode {}\\tAverage Score: {:.3f}\\tScore: {:.3f}'.format(i_episode, np.mean(scores_deque), score), end=\"\")\n",
    "        \n",
    "        if i_episode % 100 == 0:                        \n",
    "            print('\\rEpisode {}\\tAverage Score: {:.3f}'.format(i_episode, np.mean(scores_deque)))\n",
    "            \n",
    "        # save the best models\n",
    "        if current_score > previous_score:\n",
    "            if 0.5 < current_score and 99 < len(scores_deque) and not successed:\n",
    "                successed = True\n",
    "                print('\\nTarget average reward achieved!')\n",
    "            for idx,agent in enumerate(m_agent.agents):\n",
    "                torch.save(agent.actor_local.state_dict(), 'checkpoint_actor_{}_local.pth'.format(idx))           # save local actor\n",
    "                torch.save(agent.actor_target.state_dict(), 'checkpoint_actor_{}_target.pth'.format(idx))         # save target actor\n",
    "\n",
    "                torch.save(agent.critic_local.state_dict(), 'checkpoint_critic_{}_local.pth'.format(idx))         # save local critic\n",
    "                torch.save(agent.critic_target.state_dict(), 'checkpoint_critic_{}_target.pth'.format(idx))       # save target critic\n",
    "\n",
    "            previous_score = current_score\n",
    "            if (successed):\n",
    "                break\n",
    "    return scores, rolling_average_score"
   ]
  },
  {
   "cell_type": "code",
   "execution_count": 8,
   "metadata": {},
   "outputs": [
    {
     "name": "stdout",
     "output_type": "stream",
     "text": [
      "Episode 100\tAverage Score: 0.04\tScore: 0.09\n",
      "Episode 196\tAverage Score: 0.50\tScore: 2.00\n",
      "Target average reward achieved!\n"
     ]
    }
   ],
   "source": [
    "scores,rolling_average_score = multi_agent()"
   ]
  },
  {
   "cell_type": "code",
   "execution_count": 9,
   "metadata": {},
   "outputs": [
    {
     "data": {
      "image/png": "[encoded data removed]",
      "text/plain": [
       "<matplotlib.figure.Figure at 0x7f0031fd4470>"
      ]
     },
     "metadata": {
      "needs_background": "light"
     },
     "output_type": "display_data"
    }
   ],
   "source": [
    "# This plot shows the maximum score over both agents,for each episode(The blue line), \n",
    "# and shows the average score (after taking the maximum over both agents) over the next 100 episodes(the orange line).\n",
    "fig = plt.figure()\n",
    "ax = fig.add_subplot(111)\n",
    "plt.plot(np.arange(1, len(scores)+1), scores)\n",
    "plt.plot(np.arange(1, len(rolling_average_score)+1), rolling_average_score)\n",
    "plt.ylabel('Score')\n",
    "plt.xlabel('Episode #')\n",
    "plt.show()"
   ]
  },
  {
   "cell_type": "markdown",
   "metadata": {},
   "source": [
    "### 5. Test the performance of the agents "
   ]
  },
  {
   "cell_type": "code",
   "execution_count": 5,
   "metadata": {},
   "outputs": [
    {
     "name": "stderr",
     "output_type": "stream",
     "text": [
      "d:\\anaconda3\\envs\\drlnd\\lib\\site-packages\\torch\\nn\\functional.py:1340: UserWarning: nn.functional.tanh is deprecated. Use torch.tanh instead.\n",
      "  warnings.warn(\"nn.functional.tanh is deprecated. Use torch.tanh instead.\")\n"
     ]
    },
    {
     "name": "stdout",
     "output_type": "stream",
     "text": [
      "Total score (averaged over agents) this episode: 0.19000000320374966\n",
      "Total score (averaged over agents) this episode: 0.10000000149011612\n",
      "Total score (averaged over agents) this episode: 0.2900000046938658\n",
      "Total score (averaged over agents) this episode: 0.4000000059604645\n",
      "Total score (averaged over agents) this episode: 0.10000000149011612\n",
      "Total score (averaged over agents) this episode: 0.10000000149011612\n",
      "Total score (averaged over agents) this episode: 0.30000000447034836\n",
      "Total score (averaged over agents) this episode: 0.10000000149011612\n",
      "Total score (averaged over agents) this episode: 0.09000000171363354\n",
      "Total score (averaged over agents) this episode: 0.09000000171363354\n",
      "Total score (averaged over agents) this episode: 0.10000000149011612\n",
      "Total score (averaged over agents) this episode: 0.10000000149011612\n",
      "Total score (averaged over agents) this episode: 0.19000000320374966\n",
      "Total score (averaged over agents) this episode: 0.09000000171363354\n",
      "Total score (averaged over agents) this episode: 0.10000000149011612\n",
      "Total score (averaged over agents) this episode: 0.2900000046938658\n",
      "Total score (averaged over agents) this episode: 0.10000000149011612\n",
      "Total score (averaged over agents) this episode: 0.10000000149011612\n",
      "Total score (averaged over agents) this episode: 0.5000000074505806\n",
      "Total score (averaged over agents) this episode: 0.800000011920929\n",
      "Total score (averaged over agents) this episode: 0.09000000171363354\n",
      "Total score (averaged over agents) this episode: 0.19000000320374966\n",
      "Total score (averaged over agents) this episode: 0.30000000447034836\n",
      "Total score (averaged over agents) this episode: 0.10000000149011612\n",
      "Total score (averaged over agents) this episode: 0.10000000149011612\n",
      "Total score (averaged over agents) this episode: 0.10000000149011612\n",
      "Total score (averaged over agents) this episode: 0.800000011920929\n",
      "Total score (averaged over agents) this episode: 0.10000000149011612\n",
      "Total score (averaged over agents) this episode: 0.09000000171363354\n",
      "Total score (averaged over agents) this episode: 0.09000000171363354\n",
      "Total score (averaged over agents) this episode: 0.10000000149011612\n",
      "Total score (averaged over agents) this episode: 0.10000000149011612\n",
      "Total score (averaged over agents) this episode: 0.490000007674098\n",
      "Total score (averaged over agents) this episode: 0.5000000074505806\n",
      "Total score (averaged over agents) this episode: 0.30000000447034836\n",
      "Total score (averaged over agents) this episode: 0.5000000074505806\n",
      "Total score (averaged over agents) this episode: 0.10000000149011612\n",
      "Total score (averaged over agents) this episode: 0.10000000149011612\n",
      "Total score (averaged over agents) this episode: 0.09000000357627869\n",
      "Total score (averaged over agents) this episode: 0.10000000149011612\n",
      "Total score (averaged over agents) this episode: 0.10000000149011612\n",
      "Total score (averaged over agents) this episode: 0.10000000149011612\n",
      "Total score (averaged over agents) this episode: 0.09000000171363354\n",
      "Total score (averaged over agents) this episode: 0.09000000171363354\n",
      "Total score (averaged over agents) this episode: 0.10000000149011612\n",
      "Total score (averaged over agents) this episode: 0.10000000149011612\n",
      "Total score (averaged over agents) this episode: 0.10000000149011612\n",
      "Total score (averaged over agents) this episode: 0.09000000171363354\n",
      "Total score (averaged over agents) this episode: 0.19000000320374966\n",
      "Total score (averaged over agents) this episode: 0.10000000149011612\n"
     ]
    }
   ],
   "source": [
    "# load the actor critic models for each agent\n",
    "device = torch.device(\"cuda:0\" if torch.cuda.is_available() else \"cpu\")\n",
    "for idx , agent in enumerate(m_agent.agents):\n",
    "    agent.actor_local.load_state_dict(torch.load(\"checkpoints/checkpoint_actor_{}_local.pth\".format(idx), map_location=device))\n",
    "    agent.critic_local.load_state_dict(torch.load(\"checkpoints/checkpoint_critic_{}_local.pth\".format(idx), map_location=device))\n",
    "\n",
    "for i in range(5):\n",
    "    env_info = env.reset(train_mode=True)[brain_name]      # reset the environment    \n",
    "    states = env_info.vector_observations                  # get the current state (for each agent)\n",
    "    scores = np.zeros(num_agents)                          # initialize the score (for each agent)\n",
    "    while True:\n",
    "        actions = m_agent.act(states,add_noise = False)\n",
    "        env_info = env.step(actions)[brain_name]           # send all actions to tne environment\n",
    "        next_states = env_info.vector_observations         # get next state (for each agent)\n",
    "        rewards = env_info.rewards                         # get reward (for each agent)\n",
    "        dones = env_info.local_done                        # see if episode finished\n",
    "        scores += env_info.rewards                         # update the score (for each agent)\n",
    "        states = next_states                               # roll over states to next time step\n",
    "        if np.any(dones):                                  # exit loop if episode finished\n",
    "            break\n",
    "    print('Total score (averaged over agents) this episode: {}'.format(np.max(scores)))"
   ]
  },
  {
   "cell_type": "code",
   "execution_count": 6,
   "metadata": {},
   "outputs": [],
   "source": [
    "env.close()"
   ]
  },
  {
   "cell_type": "code",
   "execution_count": null,
   "metadata": {},
   "outputs": [],
   "source": []
  }
 ],
 "metadata": {
  "kernelspec": {
   "display_name": "Python 3",
   "language": "python",
   "name": "python3"
  },
  "language_info": {
   "codemirror_mode": {
    "name": "ipython",
    "version": 3
   },
   "file_extension": ".py",
   "mimetype": "text/x-python",
   "name": "python",
   "nbconvert_exporter": "python",
   "pygments_lexer": "ipython3",
   "version": "3.6.10"
  }
 },
 "nbformat": 4,
 "nbformat_minor": 2
}
