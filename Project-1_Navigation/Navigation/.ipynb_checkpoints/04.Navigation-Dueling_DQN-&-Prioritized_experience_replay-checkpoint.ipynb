{
 "cells": [
  {
   "cell_type": "markdown",
   "metadata": {},
   "source": [
    "# Navigation using Dueling DQN & Prioritized experience replay(PER)\n",
    "\n",
    "---\n",
    "\n",
    "In this notebook, i will implement Dueling DQN and PER.\n",
    "\n",
    "Note that the same parameters are applied to all the techniques I have used in this notebook as well as in other notebooks.\n",
    "\n",
    "#### different techniques which can be used to imporve DQN\n",
    "    '''\n",
    "    1 - Double DQN\n",
    "    * - Prioritized experience replay\n",
    "    3 - Dueling DQN \n",
    "    4 - multi-step bootstrap targets (A3C) \n",
    "    5 - Distributional DQN \n",
    "    6 - Noisy DQN \n",
    "\n",
    "    ***** \n",
    "    Rainbow                         # combaination of these sex different techniques\n",
    "    *****\n",
    "    '''"
   ]
  },
  {
   "cell_type": "markdown",
   "metadata": {},
   "source": [
    "### 1. Start the Environment\n"
   ]
  },
  {
   "cell_type": "code",
   "execution_count": 1,
   "metadata": {},
   "outputs": [],
   "source": [
    "from unityagents import UnityEnvironment\n",
    "import numpy as np"
   ]
  },
  {
   "cell_type": "markdown",
   "metadata": {},
   "source": [
    "Next, we will start the environment!  "
   ]
  },
  {
   "cell_type": "code",
   "execution_count": 2,
   "metadata": {},
   "outputs": [
    {
     "name": "stderr",
     "output_type": "stream",
     "text": [
      "INFO:unityagents:\n",
      "'Academy' started successfully!\n",
      "Unity Academy name: Academy\n",
      "        Number of Brains: 1\n",
      "        Number of External Brains : 1\n",
      "        Lesson number : 0\n",
      "        Reset Parameters :\n",
      "\t\t\n",
      "Unity brain name: BananaBrain\n",
      "        Number of Visual Observations (per agent): 0\n",
      "        Vector Observation space type: continuous\n",
      "        Vector Observation space size (per agent): 37\n",
      "        Number of stacked Vector Observation: 1\n",
      "        Vector Action space type: discrete\n",
      "        Vector Action space size (per agent): 4\n",
      "        Vector Action descriptions: , , , \n"
     ]
    }
   ],
   "source": [
    "env = UnityEnvironment(file_name=\"Banana_Windows_x86_64/Banana_Windows_x86_64/Banana.exe\")"
   ]
  },
  {
   "cell_type": "markdown",
   "metadata": {},
   "source": [
    "Environments contain **_brains_** which are responsible for deciding the actions of their associated agents. Here we check for the first brain available, and set it as the default brain we will be controlling from Python."
   ]
  },
  {
   "cell_type": "code",
   "execution_count": 3,
   "metadata": {},
   "outputs": [],
   "source": [
    "# get the default brain\n",
    "brain_name = env.brain_names[0]\n",
    "brain = env.brains[brain_name]"
   ]
  },
  {
   "cell_type": "markdown",
   "metadata": {},
   "source": [
    "### 2. Examine the State and Action Spaces\n",
    "\n",
    "The simulation contains a single agent that navigates a large environment.  At each time step, it has four actions at its disposal:\n",
    "- `0` - walk forward \n",
    "- `1` - walk backward\n",
    "- `2` - turn left\n",
    "- `3` - turn right\n",
    "\n",
    "The state space has `37` dimensions and contains the agent's velocity, along with ray-based perception of objects around agent's forward direction.  A reward of `+1` is provided for collecting a yellow banana, and a reward of `-1` is provided for collecting a blue banana. \n",
    "\n",
    "Run the code cell below to print some information about the environment."
   ]
  },
  {
   "cell_type": "code",
   "execution_count": 4,
   "metadata": {},
   "outputs": [
    {
     "name": "stdout",
     "output_type": "stream",
     "text": [
      "Number of agents: 1\n",
      "Number of actions: 4\n",
      "States look like: [1.         0.         0.         0.         0.84408134 0.\n",
      " 0.         1.         0.         0.0748472  0.         1.\n",
      " 0.         0.         0.25755    1.         0.         0.\n",
      " 0.         0.74177343 0.         1.         0.         0.\n",
      " 0.25854847 0.         0.         1.         0.         0.09355672\n",
      " 0.         1.         0.         0.         0.31969345 0.\n",
      " 0.        ]\n",
      "States have length: 37\n"
     ]
    }
   ],
   "source": [
    "# reset the environment\n",
    "env_info = env.reset(train_mode=True)[brain_name]\n",
    "\n",
    "# number of agents in the environment\n",
    "print('Number of agents:', len(env_info.agents))\n",
    "\n",
    "# number of actions\n",
    "action_size = brain.vector_action_space_size\n",
    "print('Number of actions:', action_size)\n",
    "\n",
    "# examine the state space \n",
    "state = env_info.vector_observations[0]\n",
    "print('States look like:', state)\n",
    "state_size = len(state)\n",
    "print('States have length:', state_size)"
   ]
  },
  {
   "cell_type": "markdown",
   "metadata": {},
   "source": [
    "### 3. Implementation\n",
    "\n",
    "Now we will implement the idea of Dueling DQN & PER. "
   ]
  },
  {
   "cell_type": "code",
   "execution_count": 5,
   "metadata": {},
   "outputs": [],
   "source": [
    "# import requiered packages \n",
    "import sys\n",
    "import os\n",
    "import random\n",
    "import math\n",
    "import torch\n",
    "import torch.nn as nn\n",
    "import torch.nn.functional as F\n",
    "import torch.optim as optim\n",
    "from torch.autograd import Variable\n",
    "\n",
    "from collections import deque,namedtuple\n",
    "import matplotlib.pyplot as plt\n",
    "%matplotlib inline\n",
    "\n",
    "from prioritized_memory import Memory   \n",
    "\n"
   ]
  },
  {
   "cell_type": "code",
   "execution_count": 6,
   "metadata": {},
   "outputs": [],
   "source": [
    "# Determine if I want to train the agent on GPU (if available) or CPU\n",
    "device = torch.device(\"cuda:0\" if torch.cuda.is_available() else \"cpu\")\n"
   ]
  },
  {
   "cell_type": "code",
   "execution_count": 7,
   "metadata": {},
   "outputs": [],
   "source": [
    "# Our Enviroment\n",
    "env_info = env.reset(train_mode=False)[brain_name] \n",
    "action_size = brain.vector_action_space_size\n",
    "state = env_info.vector_observations[0]\n",
    "state_size = len(state) \n"
   ]
  },
  {
   "cell_type": "code",
   "execution_count": 8,
   "metadata": {},
   "outputs": [],
   "source": [
    "# The model consist of 4 fully connected layer and 2 output layers (for advantage_stream & value_stream)\n",
    "\n",
    "class DuelingDQN(nn.Module):\n",
    "    \n",
    "    def __init__(self,state_size,action_size,seed):\n",
    "        \n",
    "        super(DuelingDQN,self).__init__()\n",
    "        \n",
    "        self.state_size  = state_size                     # the size of env states which = 37 \n",
    "        self.action_size = action_size                    # the size of available actions in the env which = 4\n",
    "        self.seed        = torch.manual_seed(seed) \n",
    "        \n",
    "        \n",
    "        self.fc1      = nn.Linear(self.state_size,32)        \n",
    "        self.fc2      = nn.Linear(32,64)        \n",
    "        self.fc3      = nn.Linear(64,64)\n",
    "        self.fc4      = nn.Linear(64,64)\n",
    "        # Dueling\n",
    "        self.advantage_stream  = nn.Linear(64,self.action_size)\n",
    "        self.value_stream      = nn.Linear(64,1)\n",
    "    \n",
    "    def forward(self,state):\n",
    "        x = F.relu(self.fc1(state))\n",
    "        x = F.relu(self.fc2(x))\n",
    "        x = F.relu(self.fc3(x))\n",
    "        x = F.relu(self.fc4(x))\n",
    "        \n",
    "        advantages = self.advantage_stream(x)\n",
    "        values = self.value_stream(x)\n",
    "        \n",
    "        qvals = values + (advantages - advantages.mean())\n",
    "        \n",
    "        return qvals\n",
    "    \n"
   ]
  },
  {
   "cell_type": "code",
   "execution_count": 33,
   "metadata": {},
   "outputs": [],
   "source": [
    "class RLAgent():\n",
    "    \n",
    "    def __init__(self,state_size,action_size,buffer_size,batch_size,UPDATE_EVERY,\n",
    "                 seed,gamma,TAU,beta_start,beta_frames,alpha=0.05):\n",
    "        \n",
    "        self.state_size = state_size\n",
    "        self.action_size = action_size\n",
    "        self.buffer_size   = buffer_size\n",
    "        self.batch_size    = batch_size\n",
    "        self.UPDATE_EVERY  = UPDATE_EVERY\n",
    "        self.seed  = random.seed(seed)\n",
    "        self.gamma = gamma\n",
    "        self.alpha = alpha\n",
    "        self.TAU   = TAU\n",
    "        self.beta_start = beta_start\n",
    "        self.beta_frames = beta_frames\n",
    "        self.beta_by_frame = lambda i_episode: min(1.0, beta_start + i_episode * (1.0 - beta_start) / beta_frames)\n",
    "\n",
    "        # Q-Network\n",
    "        self.DDQN_local = DuelingDQN(state_size, action_size, seed).to(device)\n",
    "        self.DDQN_target = DuelingDQN(state_size, action_size, seed).to(device)\n",
    "        self.optimizer = optim.Adam(self.DDQN_local.parameters(), lr=self.alpha)\n",
    "\n",
    "        # Prioritized experience replay       \n",
    "        self.memory = Memory(self.buffer_size)\n",
    "\n",
    "        # Initialize time step (for updating every UPDATE_EVERY steps)\n",
    "        self.t_step = 0\n",
    "        \n",
    "        \n",
    "    \n",
    "    def act(self,state,eps):\n",
    "        \n",
    "        state = torch.from_numpy(state).float().unsqueeze(0).to(device)\n",
    "        self.DDQN_local.eval()\n",
    "        with torch.no_grad():\n",
    "            action_values = self.DDQN_local(state)\n",
    "        self.DDQN_local.train()\n",
    "\n",
    "\n",
    "        # Epsilon-greedy action selection\n",
    "        if random.random() > eps:\n",
    "            return np.argmax(action_values.cpu().data.numpy()).astype(np.int32)\n",
    "        else:\n",
    "            return random.choice(np.arange(self.action_size))\n",
    "    \n",
    "    # save sample (error,<s,a,r,s'>) to the replay memory\n",
    "    def append_sample(self, state, action, reward, next_state, done):\n",
    "        target = self.DDQN_local(Variable(torch.FloatTensor(state)).to(device)).data\n",
    "        #print(target.size())\n",
    "        old_val = target[action]\n",
    "        target_val = self.DDQN_target(Variable(torch.FloatTensor(next_state)).to(device)).data\n",
    "        if done:\n",
    "            target[action] = reward\n",
    "        else:\n",
    "            target[action] = reward + self.gamma * torch.max(target_val)\n",
    "\n",
    "        error = torch.abs(old_val - target[action]).cpu().numpy()\n",
    "        print(state.shape,action.shape,done.shape,next_state.shape,done.shape)\n",
    "        self.memory.add(torch.sum(error), (state, action, reward, next_state, done))\n",
    "        \n",
    "    def step(self, state, action, reward, next_state, done,i_episode):\n",
    "        # Save experience in replay memory\n",
    "        self.append_sample(state, action, reward, next_state, done)\n",
    "\n",
    "        \n",
    "        # Learn every UPDATE_EVERY time steps.\n",
    "        self.t_step = (self.t_step + 1) % self.UPDATE_EVERY\n",
    "        if self.t_step == 0:\n",
    "            # If enough samples are available in memory, we will pick samples inside \"learn function\" \n",
    "            # from prioritized replay memory\n",
    "            \n",
    "            if self.memory.tree.n_entries > self.batch_size:\n",
    "                self.learn(self.gamma)\n",
    "    \n",
    "    def learn(self, gamma):\n",
    "        \"\"\"Update value parameters using given batch of experience tuples.\n",
    "\n",
    "        Params\n",
    "        ======\n",
    "            gamma (float): discount factor\n",
    "        \"\"\"\n",
    "        mini_batch, idxs, is_weights = self.memory.sample(self.batch_size)\n",
    "        mini_batch = np.array(mini_batch).transpose()\n",
    "        \n",
    "        states = np.vstack(mini_batch[0])\n",
    "        actions = list(mini_batch[1])\n",
    "        rewards = list(mini_batch[2])\n",
    "        next_states = np.vstack(mini_batch[3])\n",
    "        dones = mini_batch[4]\n",
    "        # bool to binary\n",
    "        dones = dones.astype(int)\n",
    "   \n",
    "        \n",
    "        states      = torch.FloatTensor(np.float32(states)).to(device)\n",
    "        actions     = torch.LongTensor(actions).to(device)\n",
    "        rewards     = torch.FloatTensor(rewards).to(device)\n",
    "        next_states = torch.FloatTensor(np.float32(next_states)).to(device)\n",
    "        dones       = torch.FloatTensor(dones).to(device)\n",
    "        is_weights  = torch.FloatTensor(is_weights).to(device)\n",
    "\n",
    "        \n",
    "        Q_targets_next = self.DDQN_target(next_states).detach().max(1)[0]\n",
    "        # Compute Q targets for current states \n",
    "        Q_targets = rewards + (gamma * Q_targets_next * (1 - dones))\n",
    "\n",
    "        # Get expected Q values from local model \n",
    "\n",
    "        Q_expected = self.DDQN_local(states)\n",
    "        Q_expected = Q_expected.gather(1, actions.unsqueeze(1)).squeeze(1)\n",
    "        # Compute loss\n",
    "        loss = (Q_expected-Q_targets).pow(2)*is_weights\n",
    "        \n",
    "        # update priority\n",
    "        for i in range(self.batch_size):\n",
    "            idx = idxs[i]\n",
    "            self.memory.update(idx, loss[i].cpu().detach().numpy())\n",
    "            \n",
    "        loss  = loss.mean()\n",
    "\n",
    "        self.optimizer.zero_grad()\n",
    "        loss.backward()\n",
    "        self.optimizer.step()\n",
    "\n",
    "        # ------------------- update target network ------------------- #\n",
    "        self.soft_update(self.DDQN_local, self.DDQN_target, self.TAU)                     \n",
    "\n",
    "    def soft_update(self, local_model, target_model, tau):\n",
    "        \"\"\"Soft update model parameters.\n",
    "        θ_target = τ*θ_local + (1 - τ)*θ_target\n",
    "\n",
    "        Params\n",
    "        ======\n",
    "            local_model (PyTorch model): weights will be copied from\n",
    "            target_model (PyTorch model): weights will be copied to\n",
    "            tau (float): interpolation parameter \n",
    "        \"\"\"\n",
    "        for target_param, local_param in zip(target_model.parameters(), local_model.parameters()):\n",
    "            target_param.data.copy_(tau*local_param.data + (1.0-tau)*target_param.data)"
   ]
  },
  {
   "cell_type": "code",
   "execution_count": 34,
   "metadata": {},
   "outputs": [],
   "source": [
    "def train_agent(EPISODES=2000,max_ts=1000,eps_start=1.0,eps_decay=0.99,\n",
    "                eps_min=0.01,gamma=0.99,alpha=5e-4,seed=6):\n",
    "\n",
    "    buffer_size  = int(1e5)\n",
    "    batch_size   = 64\n",
    "    UPDATE_EVERY = 4\n",
    "    TAU = 1e-3 \n",
    "    \n",
    "    # Prioritized Replay Buffer\n",
    "    beta_start = 0.4\n",
    "    beta_frames = 1000\n",
    "\n",
    "    \n",
    "    Agent = RLAgent(state_size,action_size,buffer_size,batch_size,UPDATE_EVERY,\n",
    "                    seed,gamma,TAU,beta_start,beta_frames,alpha)\n",
    "    scores   = []\n",
    "    scores_window = deque(maxlen=100)\n",
    "    eps  = eps_start\n",
    "    \n",
    "    solved = False\n",
    "    for i_episode in range(1,EPISODES + 1):\n",
    "        env_info = env.reset(train_mode=True)[brain_name] # reset the environment\n",
    "        state = env_info.vector_observations[0]            # get the current state\n",
    "        score = 0\n",
    "        for time_step in range(max_ts):\n",
    "\n",
    "            action = Agent.act(state,eps)\n",
    "            #print(type(action))\n",
    "            env_info = env.step(action)[brain_name]        # send the action to the environment\n",
    "            next_state = env_info.vector_observations[0]   # get the next state\n",
    "            reward = env_info.rewards[0]                   # get the reward\n",
    "            done = env_info.local_done[0]                  # see if episode has finished\n",
    "\n",
    "            Agent.step(state, action, reward, next_state, done,i_episode)\n",
    "\n",
    "            state = next_state\n",
    "            score += reward\n",
    "            if done:\n",
    "                break     \n",
    "\n",
    "        scores_window.append(score)       # save most recent score\n",
    "        scores.append(score)              # save most recent score\n",
    "        eps = max(eps_min, eps_decay*eps) # decrease epsilon\n",
    "        print('\\rEpisode {}\\tAverage Score: {:.2f}'.format(i_episode, np.mean(scores_window)), end=\"\")\n",
    "        if i_episode % 100 == 0:\n",
    "            print('\\rEpisode {}\\tAverage Score: {:.2f}'.format(i_episode, np.mean(scores_window)))\n",
    "        if np.mean(scores_window)>=13.0 and solved !=True:\n",
    "            print('\\nEnvironment solved in {:d} episodes!\\tAverage Score: {:.2f}'.format(i_episode, np.mean(scores_window)))\n",
    "            torch.save(Agent.DDQN_local.state_dict(), 'checkpoints/Dueling_DQN_PER.pth')\n",
    "            solved = True\n",
    "            break\n",
    "            \n",
    "    return scores \n"
   ]
  },
  {
   "cell_type": "code",
   "execution_count": 35,
   "metadata": {},
   "outputs": [
    {
     "name": "stdout",
     "output_type": "stream",
     "text": [
      "Episode 100\tAverage Score: 1.26\n",
      "Episode 200\tAverage Score: 5.81\n",
      "Episode 300\tAverage Score: 9.69\n",
      "Episode 398\tAverage Score: 13.01\n",
      "Environment solved in 398 episodes!\tAverage Score: 13.01\n"
     ]
    }
   ],
   "source": [
    "Dueling_DQN_scores = train_agent()"
   ]
  },
  {
   "cell_type": "code",
   "execution_count": 36,
   "metadata": {},
   "outputs": [],
   "source": [
    "env.close()"
   ]
  },
  {
   "cell_type": "code",
   "execution_count": 38,
   "metadata": {},
   "outputs": [
    {
     "data": {
      "image/png": "[encoded data removed]",
      "text/plain": [
       "<Figure size 432x288 with 1 Axes>"
      ]
     },
     "metadata": {
      "needs_background": "light"
     },
     "output_type": "display_data"
    }
   ],
   "source": [
    "fig = plt.figure()\n",
    "ax = fig.add_subplot(111)\n",
    "plt.plot(np.arange(len(Dueling_DQN_scores )), Dueling_DQN_scores )\n",
    "plt.ylabel(\"Dueling DQN with PER Score\")\n",
    "plt.xlabel(\"Episode\")\n",
    "plt.show()"
   ]
  },
  {
   "cell_type": "code",
   "execution_count": null,
   "metadata": {},
   "outputs": [],
   "source": []
  }
 ],
 "metadata": {
  "kernelspec": {
   "display_name": "Python 3",
   "language": "python",
   "name": "python3"
  },
  "language_info": {
   "codemirror_mode": {
    "name": "ipython",
    "version": 3
   },
   "file_extension": ".py",
   "mimetype": "text/x-python",
   "name": "python",
   "nbconvert_exporter": "python",
   "pygments_lexer": "ipython3",
   "version": "3.6.10"
  }
 },
 "nbformat": 4,
 "nbformat_minor": 2
}
